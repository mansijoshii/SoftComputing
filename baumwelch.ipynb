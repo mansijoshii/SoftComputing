{
 "cells": [
  {
   "cell_type": "code",
   "execution_count": 1,
   "metadata": {},
   "outputs": [],
   "source": [
    "import concurrent.futures"
   ]
  },
  {
   "cell_type": "code",
   "execution_count": 2,
   "metadata": {},
   "outputs": [],
   "source": [
    "NUM_STATES = 2\n",
    "NUM_OBS = 2\n",
    "\n",
    "# Indexing states\n",
    "GOOD = 0\n",
    "BAD = 0\n",
    "\n",
    "# Indexing observations\n",
    "POLITE = 0\n",
    "RUDE = 1"
   ]
  },
  {
   "cell_type": "code",
   "execution_count": 3,
   "metadata": {},
   "outputs": [],
   "source": [
    "initial = [0.6, 0.4]\n",
    "a = [[0.8, 0.2], [0.6, 0.4]]\n",
    "b = [[0.7, 0.3], [0.5, 0.5]]"
   ]
  },
  {
   "cell_type": "code",
   "execution_count": 4,
   "metadata": {},
   "outputs": [],
   "source": [
    "obs = [POLITE, RUDE, POLITE]"
   ]
  },
  {
   "cell_type": "code",
   "execution_count": 5,
   "metadata": {},
   "outputs": [],
   "source": [
    "def bm():\n",
    "    beta_array = []\n",
    "    \n",
    "    # Step 1 - Initialisation\n",
    "    final_pos = []\n",
    "    for i in range(NUM_STATES):\n",
    "        final_pos.append(1)\n",
    "    beta_array.append(final_pos)\n",
    "    \n",
    "    # Step 2 - Recursion\n",
    "    for k in range(len(obs)-1):\n",
    "        aux_list = []\n",
    "        for i in range(NUM_STATES):\n",
    "            beta_i_k = 0\n",
    "            for j in range(NUM_STATES):\n",
    "                beta_i_k += (beta_array[0][j] * a[i][j] * b[j][obs[len(obs)-k-1]])\n",
    "            aux_list.append(beta_i_k)\n",
    "        beta_array = [aux_list] + beta_array\n",
    "        \n",
    "    return beta_array"
   ]
  },
  {
   "cell_type": "code",
   "execution_count": 6,
   "metadata": {},
   "outputs": [],
   "source": [
    "beta = bm()"
   ]
  },
  {
   "cell_type": "code",
   "execution_count": 7,
   "metadata": {},
   "outputs": [],
   "source": [
    "def get_prob(beta_array):\n",
    "    prob_sum = 0\n",
    "    for i in range(NUM_STATES):\n",
    "        prob_sum += (beta_array[0][i] * b[i][obs[0]] * initial[i])\n",
    "    return prob_sum"
   ]
  },
  {
   "cell_type": "code",
   "execution_count": 8,
   "metadata": {},
   "outputs": [],
   "source": [
    "def fm():\n",
    "    alpha_array = []\n",
    "    \n",
    "    # Step 1 - Initialisation\n",
    "    sub_array = [];\n",
    "    for i in range(NUM_STATES):\n",
    "        sub_array.append(initial[i] * b[i][obs[0]])\n",
    "    alpha_array.append(sub_array)\n",
    "    \n",
    "    # Step 2 - Recursion\n",
    "    for k in range(len(obs)-1):\n",
    "        aux_list = []\n",
    "        n = len(alpha_array)\n",
    "        for i in range(NUM_STATES):\n",
    "            alpha_i_k = 0\n",
    "            for j in range(NUM_STATES):\n",
    "                alpha_i_k += (alpha_array[n-1][j] * a[j][i])\n",
    "            alpha_i_k *= b[i][obs[k+1]]\n",
    "            aux_list.append(alpha_i_k);\n",
    "        alpha_array = alpha_array + [aux_list]\n",
    "    \n",
    "    return alpha_array        "
   ]
  },
  {
   "cell_type": "code",
   "execution_count": 9,
   "metadata": {},
   "outputs": [],
   "source": [
    "alpha = fm()"
   ]
  },
  {
   "cell_type": "code",
   "execution_count": 10,
   "metadata": {},
   "outputs": [],
   "source": [
    "def gamma(alpha, beta):\n",
    "    gamma_array = []\n",
    "    for j in range(len(obs)):\n",
    "        sigma_alphaT = 0\n",
    "        for i in range(NUM_STATES):\n",
    "            sigma_alphaT += alpha[len(obs)-1][i]\n",
    "        aux_list = []\n",
    "        for i in range(NUM_STATES):\n",
    "            aux_list.append((alpha[j][i] * beta[j][i])/sigma_alphaT)\n",
    "        gamma_array += [aux_list]\n",
    "    return gamma_array"
   ]
  },
  {
   "cell_type": "code",
   "execution_count": 11,
   "metadata": {},
   "outputs": [
    {
     "data": {
      "text/plain": [
       "[[0.6559151975511591, 0.34408480244884077],\n",
       " [0.6397596508134459, 0.3602403491865541],\n",
       " [0.7868601553199931, 0.21313984468000685]]"
      ]
     },
     "execution_count": 11,
     "metadata": {},
     "output_type": "execute_result"
    }
   ],
   "source": [
    "gm = gamma(alpha, beta)\n",
    "gm"
   ]
  },
  {
   "cell_type": "code",
   "execution_count": 12,
   "metadata": {},
   "outputs": [],
   "source": [
    "def reestimate_output(gamma_array):\n",
    "    new_b = []\n",
    "    for i in range(NUM_STATES):\n",
    "        sum_i = 0\n",
    "        for j in range(len(obs)):\n",
    "            sum_i += gamma_array[j][i]\n",
    "        \n",
    "        aux_list = []\n",
    "        for j in range(NUM_OBS):\n",
    "            sum_j = 0\n",
    "            for k in range(len(obs)):\n",
    "                if (obs[k] == j):\n",
    "                    sum_j += gamma_array[k][i]\n",
    "            aux_list.append(sum_j/sum_i)\n",
    "        new_b.append([aux_list])\n",
    "    return new_b    "
   ]
  },
  {
   "cell_type": "code",
   "execution_count": 14,
   "metadata": {},
   "outputs": [],
   "source": [
    "# def transition_reestimate(a, b, alpha, beta, gamma):\n",
    "#     new_a = []\n",
    "#     for x in range(NUM_STATES):\n",
    "#         aux_list = []\n",
    "#         for y in range(NUM_STATES):\n",
    "#             sum_nr = 0\n",
    "#             sum_dr = 0\n",
    "#             for t in range(len(obs)-1):\n",
    "#                 sum_nr += (alpha[t][x] * beta[t+1][y] * b[y][obs[t+1]])\n",
    "#                 sum_dr += gamma[t][x]\n",
    "#             sum_nr *= a[x][y]\n",
    "#             sum_dr += gamma[len(obs)-1][x]\n",
    "#             aux_list.append(sum_nr / sum_dr)\n",
    "#         new_a.append([aux_list])\n",
    "#     return new_a"
   ]
  },
  {
   "cell_type": "code",
   "execution_count": 15,
   "metadata": {},
   "outputs": [],
   "source": [
    "def get_si(a, b, alpha, beta, prob):\n",
    "    si = []\n",
    "    for i in range(NUM_STATES):\n",
    "        si_i = []\n",
    "        for j in range(NUM_STATES):\n",
    "            si_i_j = []\n",
    "            for t in range(len(obs)-1):\n",
    "                si_i_j_t = alpha[t][i] * a[i][j] * b[j][obs[t+1]] * beta[t+1][j] / prob\n",
    "                si_i_j.append(si_i_j_t)\n",
    "            si_i.append(si_i_j)\n",
    "        si.append(si_i)\n",
    "    return si"
   ]
  },
  {
   "cell_type": "code",
   "execution_count": 16,
   "metadata": {},
   "outputs": [
    {
     "data": {
      "text/plain": [
       "[[[0.47140184796780227, 0.5428263703871663],\n",
       "  [0.184513349583357, 0.09693328042627972]],\n",
       " [[0.16835780284564367, 0.244033784932827],\n",
       "  [0.17572699960319718, 0.11620656425372716]]]"
      ]
     },
     "execution_count": 16,
     "metadata": {},
     "output_type": "execute_result"
    }
   ],
   "source": [
    "si = get_si(a, b, alpha, beta, get_prob(beta))\n",
    "si"
   ]
  },
  {
   "cell_type": "code",
   "execution_count": 17,
   "metadata": {},
   "outputs": [],
   "source": [
    "def reestimate_transition(gamma, si):\n",
    "    new_a = []\n",
    "    for x in range(NUM_STATES):\n",
    "        aux_list = []\n",
    "        for y in range(NUM_STATES):\n",
    "            sum_nr = 0\n",
    "            sum_dr = 0\n",
    "            for t in range(len(obs)-1):\n",
    "                sum_nr += si[x][y][t]\n",
    "                sum_dr += gamma[t][x]\n",
    "            aux_list.append(sum_nr / sum_dr)\n",
    "        new_a.append([aux_list])\n",
    "    return new_a"
   ]
  },
  {
   "cell_type": "code",
   "execution_count": 19,
   "metadata": {},
   "outputs": [],
   "source": [
    "def parallel():\n",
    "    # Parallel processing using Threadpools\n",
    "    with concurrent.futures.ThreadPoolExecutor() as executor:\n",
    "        alpha_array = executor.submit(fm).result()\n",
    "        beta_array = executor.submit(bm).result()\n",
    "    \n",
    "    gamma_array = gamma(alpha_array, beta_array)\n",
    "    si = get_si(a, b, alpha_array, beta_array, get_prob(beta_array))\n",
    "    print(\"New output probabilities:\")\n",
    "    print(reestimate_output(gamma_array))\n",
    "    print(\"New Transition probabilities:\")\n",
    "    print(reestimate_transition(gamma_array, si))    "
   ]
  },
  {
   "cell_type": "code",
   "execution_count": 20,
   "metadata": {},
   "outputs": [
    {
     "name": "stdout",
     "output_type": "stream",
     "text": [
      "New output probabilities:\n",
      "[[[0.692797648211661, 0.3072023517883391]], [[0.607352486870559, 0.39264751312944085]]]\n",
      "New Transition probabilities:\n",
      "[[[0.7827798923743274, 0.21722010762567273]], [[0.585513078470825, 0.41448692152917527]]]\n"
     ]
    }
   ],
   "source": [
    "parallel()"
   ]
  },
  {
   "cell_type": "code",
   "execution_count": null,
   "metadata": {},
   "outputs": [],
   "source": []
  }
 ],
 "metadata": {
  "kernelspec": {
   "display_name": "Python 3",
   "language": "python",
   "name": "python3"
  },
  "language_info": {
   "codemirror_mode": {
    "name": "ipython",
    "version": 3
   },
   "file_extension": ".py",
   "mimetype": "text/x-python",
   "name": "python",
   "nbconvert_exporter": "python",
   "pygments_lexer": "ipython3",
   "version": "3.7.1"
  }
 },
 "nbformat": 4,
 "nbformat_minor": 2
}
